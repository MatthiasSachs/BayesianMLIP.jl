{
 "cells": [
  {
   "cell_type": "markdown",
   "metadata": {},
   "source": [
    "We first import the relevant packages"
   ]
  },
  {
   "cell_type": "code",
   "execution_count": 1,
   "metadata": {},
   "outputs": [],
   "source": [
    "using LinearAlgebra: length\n",
    "using ACE, ACEbase, Test, ACE.Testing\n",
    "using ACE: evaluate, SymmetricBasis, PIBasis, O3, State, val \n",
    "using JuLIP\n",
    "using StaticArrays\n",
    "using ChainRules\n",
    "import ChainRulesCore: rrule, NoTangent, ZeroTangent\n",
    "using Zygote\n",
    "using Zygote: @thunk \n",
    "using Printf, LinearAlgebra #for the fdtestMatrix"
   ]
  },
  {
   "cell_type": "markdown",
   "metadata": {},
   "source": [
    "Now we construct the basis. Having maxdeg=6 and ord=3 gives us a symmetric basis of 97 elements. "
   ]
  },
  {
   "cell_type": "code",
   "execution_count": 3,
   "metadata": {},
   "outputs": [
    {
     "data": {
      "text/plain": [
       "97"
      ]
     },
     "execution_count": 3,
     "metadata": {},
     "output_type": "execute_result"
    }
   ],
   "source": [
    "maxdeg = 6\n",
    "ord = 3\n",
    "Bsel = SimpleSparseBasis(ord, maxdeg)\n",
    "B1p = ACE.Utils.RnYlm_1pbasis(; maxdeg=maxdeg)\n",
    "φ = ACE.Invariant()\n",
    "basis = SymmetricBasis(φ, B1p, O3(), Bsel)\n",
    "length(basis)"
   ]
  },
  {
   "cell_type": "markdown",
   "metadata": {},
   "source": [
    "Then we generate a random configuration, with the number of atoms being nX. cfg is then a vector of 97 elements, each element a DState (representing its position). "
   ]
  },
  {
   "cell_type": "code",
   "execution_count": 4,
   "metadata": {},
   "outputs": [
    {
     "data": {
      "text/plain": [
       "ACEConfig{PositionState{Float64}}(PositionState{Float64}[⟨rr:[0.22, 0.44, 0.01]⟩, ⟨rr:[0.02, 0.4, 0.49]⟩, ⟨rr:[0.12, 0.73, 0.6]⟩, ⟨rr:[0.98, 0.36, 0.03]⟩, ⟨rr:[0.62, 0.5, 0.92]⟩, ⟨rr:[0.84, 0.07, 0.26]⟩, ⟨rr:[0.28, 0.88, 0.25]⟩, ⟨rr:[0.49, 0.91, 0.16]⟩, ⟨rr:[0.83, 0.52, 0.24]⟩, ⟨rr:[1.0, 0.48, 0.26]⟩])"
      ]
     },
     "execution_count": 4,
     "metadata": {},
     "output_type": "execute_result"
    }
   ],
   "source": [
    "nX = 10     # number of atoms\n",
    "cfg = ACEConfig([State(rr = rand(SVector{3, Float64})) for _ in 1:nX])      # vector of States"
   ]
  },
  {
   "cell_type": "markdown",
   "metadata": {},
   "source": [
    "We can now initialize the model (linear ACE model). The basis is stored in model.basis and the coefficients are stored in model.c. At this point what is the significance of 'np'? Since we have a basis of 97 polynomials, I would expect c_m to be a vector of 97 elements, but I find that it is $97 \\times 2$ matrix. "
   ]
  },
  {
   "cell_type": "code",
   "execution_count": 5,
   "metadata": {},
   "outputs": [
    {
     "data": {
      "text/plain": [
       "ACE.LinearACEModel{SymmetricBasis{PIBasis{ACE.Product1pBasis{2, Tuple{ACE.Rn1pBasis{Float64, PolyTransform{Int64, Float64}, ACE.OrthPolys.OrthPolyBasis{Float64}, :rr, :n, ACE.DState{NamedTuple{(:rr,), Tuple{SVector{3, Float64}}}}}, ACE.Ylm1pBasis{Float64, :rr, :l, :m, ACE.DState{NamedTuple{(:rr,), Tuple{SVector{3, ComplexF64}}}}}}, ComplexF64}, typeof(real), Float64, ComplexF64}, ACE.Invariant{Float64}, O3{:l, :m}, typeof(real), ACE.Invariant{Float64}}, SVector{2, Float64}, ACE.ProductEvaluator{SVector{2, ACE.Invariant{Float64}}, PIBasis{ACE.Product1pBasis{2, Tuple{ACE.Rn1pBasis{Float64, PolyTransform{Int64, Float64}, ACE.OrthPolys.OrthPolyBasis{Float64}, :rr, :n, ACE.DState{NamedTuple{(:rr,), Tuple{SVector{3, Float64}}}}}, ACE.Ylm1pBasis{Float64, :rr, :l, :m, ACE.DState{NamedTuple{(:rr,), Tuple{SVector{3, ComplexF64}}}}}}, ComplexF64}, typeof(real), Float64, ComplexF64}, typeof(real)}}(SymmetricBasis{PIBasis{ACE.Product1pBasis{2, Tuple{ACE.Rn1pBasis{Float64, PolyTransform{Int64, Float64}, ACE.OrthPolys.OrthPolyBasis{Float64}, :rr, :n, ACE.DState{NamedTuple{(:rr,), Tuple{SVector{3, Float64}}}}}, ACE.Ylm1pBasis{Float64, :rr, :l, :m, ACE.DState{NamedTuple{(:rr,), Tuple{SVector{3, ComplexF64}}}}}}, ComplexF64}, typeof(real), Float64, ComplexF64}, ACE.Invariant{Float64}, O3{:l, :m}, typeof(real), ACE.Invariant{Float64}}(PIBasis{ACE.Product1pBasis{2, Tuple{ACE.Rn1pBasis{Float64, PolyTransform{Int64, Float64}, ACE.OrthPolys.OrthPolyBasis{Float64}, :rr, :n, ACE.DState{NamedTuple{(:rr,), Tuple{SVector{3, Float64}}}}}, ACE.Ylm1pBasis{Float64, :rr, :l, :m, ACE.DState{NamedTuple{(:rr,), Tuple{SVector{3, ComplexF64}}}}}}, ComplexF64}, typeof(real), Float64, ComplexF64}(Product1pBasis(Rn1pBasis{rr, n}(OrthPolyBasis(pl = 2, tl = 0.32653061224489793, pr = 0, tr = 1.7777777777777777, ...), PolyTransform{Int64, Float64}(2, 1.0), \"Rn\"), Ylm1pBasis{rr, l, m}(3, \"Ylm\")), ACE.PIBasisSpec([0, 1, 1, 1, 1, 1, 1, 2, 2, 2  …  3, 3, 3, 3, 3, 3, 3, 3, 3, 3], [0 0 0; 1 0 0; … ; 11 10 10; 11 11 11]), real, ACEbase.ObjectPools.VectorPool{Float64}(DataStructures.Stack{Vector{Float64}}[DataStructures.Stack{Vector{Float64}}(Deque [Vector{Float64}[]])]), ACEbase.ObjectPools.VectorPool{ComplexF64}(DataStructures.Stack{Vector{ComplexF64}}[DataStructures.Stack{Vector{ComplexF64}}(Deque [Vector{ComplexF64}[]])])), sparse([1, 2, 3, 4, 5, 6, 7, 8, 9, 10  …  96, 97, 95, 96, 97, 93, 94, 95, 96, 97], [1, 2, 3, 4, 5, 6, 7, 8, 9, 10  …  238, 239, 240, 241, 242, 243, 244, 245, 246, 247], ACE.Invariant{Float64}[i(1.0), i(1.0), i(1.0), i(1.0), i(1.0), i(1.0), i(1.0), i(1.4142135623730951), i(1.0), i(1.0)  …  i(-0.5163977794943219), i(2.151411496801907), i(1.2649110640673513), i(0.8944271909999154), i(-1.7566201313073582), i(2.449489742783178), i(0.8164965809277259), i(-0.6324555320336757), i(-0.5163977794943219), i(0.5855400437691194)], 97, 247), O3{:l, :m}(), real, ACEbase.ObjectPools.VectorPool{ACE.Invariant{Float64}}(DataStructures.Stack{Vector{ACE.Invariant{Float64}}}[DataStructures.Stack{Vector{ACE.Invariant{Float64}}}(Deque [Vector{ACE.Invariant{Float64}}[]])])), SVector{2, Float64}[[0.3000741738767876, 0.5997260673100577], [0.08078047615597572, 0.8766526525653024], [0.09880164842454375, 0.5033661290000404], [0.7096231423596856, 0.181513473036359], [0.019517302222075594, 0.4533414697319127], [0.7259241249302807, 0.03179587619670099], [0.7189010775975806, 0.34655506061770414], [0.20953303414525493, 0.8888925174700638], [0.16857228940620383, 0.8083169555575155], [0.8451415875953763, 0.3435552659479758]  …  [0.2046311978536871, 0.9950541397606145], [0.9928399820314465, 0.8013116964656876], [0.49487774811328367, 0.12302581448447891], [0.9940407699976488, 0.7321001290325366], [0.01669604511332068, 0.2855429511639055], [0.41205025491260083, 0.03730275953441742], [0.2358565530407799, 0.3113667086040076], [0.28166934263473864, 0.04318219161497161], [0.01896899672632224, 0.0035743987773266817], [0.20911303938813197, 0.8136508340184622]], ACE.ProductEvaluator{SVector{2, ACE.Invariant{Float64}}, PIBasis{ACE.Product1pBasis{2, Tuple{ACE.Rn1pBasis{Float64, PolyTransform{Int64, Float64}, ACE.OrthPolys.OrthPolyBasis{Float64}, :rr, :n, ACE.DState{NamedTuple{(:rr,), Tuple{SVector{3, Float64}}}}}, ACE.Ylm1pBasis{Float64, :rr, :l, :m, ACE.DState{NamedTuple{(:rr,), Tuple{SVector{3, ComplexF64}}}}}}, ComplexF64}, typeof(real), Float64, ComplexF64}, typeof(real)}(PIBasis{ACE.Product1pBasis{2, Tuple{ACE.Rn1pBasis{Float64, PolyTransform{Int64, Float64}, ACE.OrthPolys.OrthPolyBasis{Float64}, :rr, :n, ACE.DState{NamedTuple{(:rr,), Tuple{SVector{3, Float64}}}}}, ACE.Ylm1pBasis{Float64, :rr, :l, :m, ACE.DState{NamedTuple{(:rr,), Tuple{SVector{3, ComplexF64}}}}}}, ComplexF64}, typeof(real), Float64, ComplexF64}(Product1pBasis(Rn1pBasis{rr, n}(OrthPolyBasis(pl = 2, tl = 0.32653061224489793, pr = 0, tr = 1.7777777777777777, ...), PolyTransform{Int64, Float64}(2, 1.0), \"Rn\"), Ylm1pBasis{rr, l, m}(3, \"Ylm\")), ACE.PIBasisSpec([0, 1, 1, 1, 1, 1, 1, 2, 2, 2  …  3, 3, 3, 3, 3, 3, 3, 3, 3, 3], [0 0 0; 1 0 0; … ; 11 10 10; 11 11 11]), real, ACEbase.ObjectPools.VectorPool{Float64}(DataStructures.Stack{Vector{Float64}}[DataStructures.Stack{Vector{Float64}}(Deque [Vector{Float64}[]])]), ACEbase.ObjectPools.VectorPool{ComplexF64}(DataStructures.Stack{Vector{ComplexF64}}[DataStructures.Stack{Vector{ComplexF64}}(Deque [Vector{ComplexF64}[]])])), SVector{2, ACE.Invariant{Float64}}[[i(0.3000741738767876), i(0.5997260673100577)], [i(0.08078047615597572), i(0.8766526525653024)], [i(0.09880164842454375), i(0.5033661290000404)], [i(0.7096231423596856), i(0.181513473036359)], [i(0.019517302222075594), i(0.4533414697319127)], [i(0.7259241249302807), i(0.03179587619670099)], [i(0.7189010775975806), i(0.34655506061770414)], [i(0.29632445865340434), i(1.2570838536981277)], [i(0.16857228940620383), i(0.8083169555575155)], [i(0.8451415875953763), i(0.3435552659479758)]  …  [i(-0.009795547788707866), i(-0.0018458115916387173)], [i(0.4498881970708172), i(1.7504977586897799)], [i(0.3562866679072586), i(0.054621631944454)], [i(0.016966386458010994), i(0.003197039457917836)], [i(-0.3673321747080611), i(-1.4292754348918526)], [i(1.0093128729196095), i(0.09137272685706285)], [i(0.19257606914719563), i(0.25422985298989176)], [i(-0.1781433339536293), i(-0.027310815972227)], [i(-0.009795547788707866), i(-0.0018458115916387173)], [i(0.12244405823602038), i(0.47642514496395083)]], real))"
      ]
     },
     "execution_count": 5,
     "metadata": {},
     "output_type": "execute_result"
    }
   ],
   "source": [
    "np = 2\n",
    "c_m = rand(SVector{np,Float64}, length(basis))\n",
    "model = ACE.LinearACEModel(basis, c_m, evaluator = :standard)"
   ]
  },
  {
   "cell_type": "markdown",
   "metadata": {},
   "source": [
    "Recall that our Finnis Sinclair model is: \n",
    "$$\\hat{E} \\big(\\{\\mathbf{r}_i \\}, \\mathbf{a}, \\mathbf{a}^\\prime \\big) = \\sum_i \\sum_{k=1}^K  a_k \\mathcal{B}_k \\big( \\{\\mathbf{r}_{ij} \\} \\big) + \\sum_i F\\bigg( \\sum_{k=1}^{K^\\prime} a_k^\\prime \\mathcal{B}_k^\\prime \\big(\\{\\mathbf{r}_{ij} \\} \\big) \\bigg) $$\n",
    "I had suspected that the reason np=2 was that the first column of c_m represents the coefficients 97 $a_k$ and the second column represents the 97 coefficients $a_k^\\prime$. But this wouldn't make sense since we are talking about a linear model. So I will need help explaining the significance of c_m being a $97 \\times 2$ matrix. My best guess is that the $2$ columns of c_m represents two *independent* sets of coefficients (why that is necessary, I am not sure). "
   ]
  },
  {
   "cell_type": "markdown",
   "metadata": {},
   "source": [
    "Looking at the equation above, we should implement code that for the linear term, \n",
    "1. Takes the coefficients c_m and basis $\\mathcal{B}_k (\\{\\mathbf{r}_{ij}\\})$ \n",
    "2. Sums them all up over all the $nX$ atoms in at  \n",
    "\n",
    "and for the nonlinear term, \n",
    "1. Takes the coefficients c_m and basis $\\mathcal{B}_k (\\{\\mathbf{r}_{ij}\\})$ \n",
    "2. Sums them all up over all the $nX$ atoms in at "
   ]
  }
 ],
 "metadata": {
  "kernelspec": {
   "display_name": "Julia 1.7.2",
   "language": "julia",
   "name": "julia-1.7"
  },
  "language_info": {
   "file_extension": ".jl",
   "mimetype": "application/julia",
   "name": "julia",
   "version": "1.7.2"
  },
  "orig_nbformat": 4,
  "vscode": {
   "interpreter": {
    "hash": "7f9f3d5750ba8200d82a5b082c818a40855820944f0eebf02ea170d5afb40195"
   }
  }
 },
 "nbformat": 4,
 "nbformat_minor": 2
}
